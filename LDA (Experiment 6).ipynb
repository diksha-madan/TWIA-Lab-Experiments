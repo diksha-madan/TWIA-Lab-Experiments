{
 "cells": [
  {
   "cell_type": "markdown",
   "metadata": {},
   "source": [
    "# Latent Dirichlet Allocation"
   ]
  },
  {
   "cell_type": "markdown",
   "metadata": {},
   "source": [
    "Latent Dirichlet Allocation (LDA) is a popular approach for topic modeling. It works by identifying the key topics within a set of text documents, and the key words that make up each topic.\n",
    "\n",
    "Under LDA, each document is assumed to have a mix of underlying (latent) topics, each topic with a certain probability of occurring in the document. Individual text documents can therefore be represented by the topics that make them up.\n",
    "\n",
    "In this way, LDA topic modeling can be used to categorize or classify documents based on their topic content.\n",
    "\n",
    "Each LDA topic model requires:\n",
    "\n",
    "1. A set of documents for training the model—the training corpus\n",
    "2. A dictionary of words to form the vocabulary used in the model—this can be derived from the training corpus\n",
    "\n",
    "\n",
    "Once a model has been trained, it can be applied to a new set of documents to identify the topics in those new documents."
   ]
  },
  {
   "cell_type": "markdown",
   "metadata": {},
   "source": [
    "## Dataset"
   ]
  },
  {
   "cell_type": "code",
   "execution_count": 4,
   "metadata": {},
   "outputs": [],
   "source": [
    "import pandas as pd\n",
    "\n",
    "data = pd.read_csv(r'C:\\Users\\HP\\Downloads\\Captions-insta (1).csv', encoding = 'unicode_escape')\n",
    "data_text = data[['Captions']]\n",
    "data_text['index'] = data_text.index\n",
    "documents = data_text"
   ]
  },
  {
   "cell_type": "code",
   "execution_count": 5,
   "metadata": {},
   "outputs": [
    {
     "data": {
      "text/plain": [
       "10662"
      ]
     },
     "execution_count": 5,
     "metadata": {},
     "output_type": "execute_result"
    }
   ],
   "source": [
    "len(documents)"
   ]
  },
  {
   "cell_type": "code",
   "execution_count": 6,
   "metadata": {},
   "outputs": [
    {
     "data": {
      "text/html": [
       "<div>\n",
       "<style scoped>\n",
       "    .dataframe tbody tr th:only-of-type {\n",
       "        vertical-align: middle;\n",
       "    }\n",
       "\n",
       "    .dataframe tbody tr th {\n",
       "        vertical-align: top;\n",
       "    }\n",
       "\n",
       "    .dataframe thead th {\n",
       "        text-align: right;\n",
       "    }\n",
       "</style>\n",
       "<table border=\"1\" class=\"dataframe\">\n",
       "  <thead>\n",
       "    <tr style=\"text-align: right;\">\n",
       "      <th></th>\n",
       "      <th>Captions</th>\n",
       "      <th>index</th>\n",
       "    </tr>\n",
       "  </thead>\n",
       "  <tbody>\n",
       "    <tr>\n",
       "      <th>0</th>\n",
       "      <td>the rock is destined to be the 21st century's ...</td>\n",
       "      <td>0</td>\n",
       "    </tr>\n",
       "    <tr>\n",
       "      <th>1</th>\n",
       "      <td>the gorgeously elaborate continuation of \" the...</td>\n",
       "      <td>1</td>\n",
       "    </tr>\n",
       "    <tr>\n",
       "      <th>2</th>\n",
       "      <td>effective but too tepid biopic</td>\n",
       "      <td>2</td>\n",
       "    </tr>\n",
       "    <tr>\n",
       "      <th>3</th>\n",
       "      <td>if you sometimes like to go to the movies to h...</td>\n",
       "      <td>3</td>\n",
       "    </tr>\n",
       "    <tr>\n",
       "      <th>4</th>\n",
       "      <td>emerges as something rare , an issue movie tha...</td>\n",
       "      <td>4</td>\n",
       "    </tr>\n",
       "  </tbody>\n",
       "</table>\n",
       "</div>"
      ],
      "text/plain": [
       "                                            Captions  index\n",
       "0  the rock is destined to be the 21st century's ...      0\n",
       "1  the gorgeously elaborate continuation of \" the...      1\n",
       "2                     effective but too tepid biopic      2\n",
       "3  if you sometimes like to go to the movies to h...      3\n",
       "4  emerges as something rare , an issue movie tha...      4"
      ]
     },
     "execution_count": 6,
     "metadata": {},
     "output_type": "execute_result"
    }
   ],
   "source": [
    "documents.head()"
   ]
  },
  {
   "cell_type": "markdown",
   "metadata": {},
   "source": [
    "## Pre-processing"
   ]
  },
  {
   "cell_type": "code",
   "execution_count": 8,
   "metadata": {},
   "outputs": [
    {
     "name": "stdout",
     "output_type": "stream",
     "text": [
      "Collecting gensimNote: you may need to restart the kernel to use updated packages.\n",
      "\n",
      "  Downloading gensim-4.0.1-cp38-cp38-win_amd64.whl (23.9 MB)\n",
      "Requirement already satisfied: Cython==0.29.21 in c:\\users\\hp\\anaconda3\\lib\\site-packages (from gensim) (0.29.21)\n",
      "Collecting smart-open>=1.8.1\n",
      "  Downloading smart_open-5.0.0-py3-none-any.whl (56 kB)\n",
      "Requirement already satisfied: scipy>=0.18.1 in c:\\users\\hp\\anaconda3\\lib\\site-packages (from gensim) (1.5.0)\n",
      "Requirement already satisfied: numpy>=1.11.3 in c:\\users\\hp\\anaconda3\\lib\\site-packages (from gensim) (1.18.5)\n",
      "Installing collected packages: smart-open, gensim\n",
      "Successfully installed gensim-4.0.1 smart-open-5.0.0\n"
     ]
    }
   ],
   "source": [
    "pip install gensim"
   ]
  },
  {
   "cell_type": "code",
   "execution_count": 9,
   "metadata": {},
   "outputs": [
    {
     "name": "stderr",
     "output_type": "stream",
     "text": [
      "C:\\Users\\HP\\anaconda3\\lib\\site-packages\\gensim\\similarities\\__init__.py:15: UserWarning: The gensim.similarities.levenshtein submodule is disabled, because the optional Levenshtein package <https://pypi.org/project/python-Levenshtein/> is unavailable. Install Levenhstein (e.g. `pip install python-Levenshtein`) to suppress this warning.\n",
      "  warnings.warn(msg)\n"
     ]
    }
   ],
   "source": [
    "import gensim\n",
    "from gensim.utils import simple_preprocess\n",
    "from gensim.parsing.preprocessing import STOPWORDS\n",
    "from nltk.stem import WordNetLemmatizer, SnowballStemmer\n",
    "from nltk.stem.porter import *\n",
    "import numpy as np\n",
    "np.random.seed(2018)"
   ]
  },
  {
   "cell_type": "code",
   "execution_count": 10,
   "metadata": {},
   "outputs": [
    {
     "name": "stderr",
     "output_type": "stream",
     "text": [
      "[nltk_data] Downloading package wordnet to\n",
      "[nltk_data]     C:\\Users\\HP\\AppData\\Roaming\\nltk_data...\n",
      "[nltk_data]   Package wordnet is already up-to-date!\n"
     ]
    },
    {
     "data": {
      "text/plain": [
       "True"
      ]
     },
     "execution_count": 10,
     "metadata": {},
     "output_type": "execute_result"
    }
   ],
   "source": [
    "import nltk\n",
    "nltk.download('wordnet')"
   ]
  },
  {
   "cell_type": "code",
   "execution_count": 11,
   "metadata": {},
   "outputs": [
    {
     "name": "stdout",
     "output_type": "stream",
     "text": [
      "go\n"
     ]
    }
   ],
   "source": [
    "print(WordNetLemmatizer().lemmatize('went', pos='v'))"
   ]
  },
  {
   "cell_type": "code",
   "execution_count": 12,
   "metadata": {},
   "outputs": [
    {
     "data": {
      "text/html": [
       "<div>\n",
       "<style scoped>\n",
       "    .dataframe tbody tr th:only-of-type {\n",
       "        vertical-align: middle;\n",
       "    }\n",
       "\n",
       "    .dataframe tbody tr th {\n",
       "        vertical-align: top;\n",
       "    }\n",
       "\n",
       "    .dataframe thead th {\n",
       "        text-align: right;\n",
       "    }\n",
       "</style>\n",
       "<table border=\"1\" class=\"dataframe\">\n",
       "  <thead>\n",
       "    <tr style=\"text-align: right;\">\n",
       "      <th></th>\n",
       "      <th>original word</th>\n",
       "      <th>stemmed</th>\n",
       "    </tr>\n",
       "  </thead>\n",
       "  <tbody>\n",
       "    <tr>\n",
       "      <th>0</th>\n",
       "      <td>caresses</td>\n",
       "      <td>caress</td>\n",
       "    </tr>\n",
       "    <tr>\n",
       "      <th>1</th>\n",
       "      <td>flies</td>\n",
       "      <td>fli</td>\n",
       "    </tr>\n",
       "    <tr>\n",
       "      <th>2</th>\n",
       "      <td>dies</td>\n",
       "      <td>die</td>\n",
       "    </tr>\n",
       "    <tr>\n",
       "      <th>3</th>\n",
       "      <td>mules</td>\n",
       "      <td>mule</td>\n",
       "    </tr>\n",
       "    <tr>\n",
       "      <th>4</th>\n",
       "      <td>denied</td>\n",
       "      <td>deni</td>\n",
       "    </tr>\n",
       "    <tr>\n",
       "      <th>5</th>\n",
       "      <td>died</td>\n",
       "      <td>die</td>\n",
       "    </tr>\n",
       "    <tr>\n",
       "      <th>6</th>\n",
       "      <td>agreed</td>\n",
       "      <td>agre</td>\n",
       "    </tr>\n",
       "    <tr>\n",
       "      <th>7</th>\n",
       "      <td>owned</td>\n",
       "      <td>own</td>\n",
       "    </tr>\n",
       "    <tr>\n",
       "      <th>8</th>\n",
       "      <td>humbled</td>\n",
       "      <td>humbl</td>\n",
       "    </tr>\n",
       "    <tr>\n",
       "      <th>9</th>\n",
       "      <td>sized</td>\n",
       "      <td>size</td>\n",
       "    </tr>\n",
       "    <tr>\n",
       "      <th>10</th>\n",
       "      <td>meeting</td>\n",
       "      <td>meet</td>\n",
       "    </tr>\n",
       "    <tr>\n",
       "      <th>11</th>\n",
       "      <td>stating</td>\n",
       "      <td>state</td>\n",
       "    </tr>\n",
       "    <tr>\n",
       "      <th>12</th>\n",
       "      <td>siezing</td>\n",
       "      <td>siez</td>\n",
       "    </tr>\n",
       "    <tr>\n",
       "      <th>13</th>\n",
       "      <td>itemization</td>\n",
       "      <td>item</td>\n",
       "    </tr>\n",
       "    <tr>\n",
       "      <th>14</th>\n",
       "      <td>sensational</td>\n",
       "      <td>sensat</td>\n",
       "    </tr>\n",
       "    <tr>\n",
       "      <th>15</th>\n",
       "      <td>traditional</td>\n",
       "      <td>tradit</td>\n",
       "    </tr>\n",
       "    <tr>\n",
       "      <th>16</th>\n",
       "      <td>reference</td>\n",
       "      <td>refer</td>\n",
       "    </tr>\n",
       "    <tr>\n",
       "      <th>17</th>\n",
       "      <td>colonizer</td>\n",
       "      <td>colon</td>\n",
       "    </tr>\n",
       "    <tr>\n",
       "      <th>18</th>\n",
       "      <td>plotted</td>\n",
       "      <td>plot</td>\n",
       "    </tr>\n",
       "  </tbody>\n",
       "</table>\n",
       "</div>"
      ],
      "text/plain": [
       "   original word stemmed\n",
       "0       caresses  caress\n",
       "1          flies     fli\n",
       "2           dies     die\n",
       "3          mules    mule\n",
       "4         denied    deni\n",
       "5           died     die\n",
       "6         agreed    agre\n",
       "7          owned     own\n",
       "8        humbled   humbl\n",
       "9          sized    size\n",
       "10       meeting    meet\n",
       "11       stating   state\n",
       "12       siezing    siez\n",
       "13   itemization    item\n",
       "14   sensational  sensat\n",
       "15   traditional  tradit\n",
       "16     reference   refer\n",
       "17     colonizer   colon\n",
       "18       plotted    plot"
      ]
     },
     "execution_count": 12,
     "metadata": {},
     "output_type": "execute_result"
    }
   ],
   "source": [
    "stemmer = SnowballStemmer('english')\n",
    "original_words = ['caresses', 'flies', 'dies', 'mules', 'denied','died', 'agreed', 'owned', \n",
    "           'humbled', 'sized','meeting', 'stating', 'siezing', 'itemization','sensational', \n",
    "           'traditional', 'reference', 'colonizer','plotted']\n",
    "singles = [stemmer.stem(plural) for plural in original_words]\n",
    "pd.DataFrame(data = {'original word': original_words, 'stemmed': singles})"
   ]
  },
  {
   "cell_type": "code",
   "execution_count": 13,
   "metadata": {},
   "outputs": [],
   "source": [
    "def lemmatize_stemming(text):\n",
    "    return stemmer.stem(WordNetLemmatizer().lemmatize(text, pos='v'))\n",
    "\n",
    "def preprocess(text):\n",
    "    result = []\n",
    "    for token in gensim.utils.simple_preprocess(text):\n",
    "        if token not in gensim.parsing.preprocessing.STOPWORDS and len(token) > 3:\n",
    "            result.append(lemmatize_stemming(token))\n",
    "    return result"
   ]
  },
  {
   "cell_type": "markdown",
   "metadata": {},
   "source": [
    "## Reviewing a Pre-Processed Document"
   ]
  },
  {
   "cell_type": "code",
   "execution_count": 14,
   "metadata": {},
   "outputs": [
    {
     "name": "stdout",
     "output_type": "stream",
     "text": [
      "original document: \n",
      "['the', 'tug-of-war', 'at', 'the', 'core', 'of', 'beijing', 'bicycle', 'becomes', 'weighed', 'down', 'with', 'agonizing', 'contrivances', ',', 'overheated', 'pathos', 'and', 'long', ',', 'wistful', 'gazes', '.', '']\n",
      "\n",
      "\n",
      " tokenized and lemmatized document: \n",
      "['core', 'beij', 'bicycl', 'weigh', 'agon', 'contriv', 'overheat', 'patho', 'long', 'wist', 'gaze']\n"
     ]
    }
   ],
   "source": [
    "doc_sample = documents[documents['index'] == 4310].values[0][0]\n",
    "\n",
    "print('original document: ')\n",
    "words = []\n",
    "for word in doc_sample.split(' '):\n",
    "    words.append(word)\n",
    "print(words)\n",
    "print('\\n\\n tokenized and lemmatized document: ')\n",
    "print(preprocess(doc_sample))"
   ]
  },
  {
   "cell_type": "code",
   "execution_count": 16,
   "metadata": {},
   "outputs": [],
   "source": [
    "processed_docs = documents['Captions'].map(preprocess)"
   ]
  },
  {
   "cell_type": "code",
   "execution_count": 17,
   "metadata": {},
   "outputs": [
    {
     "data": {
      "text/plain": [
       "0    [rock, destin, centuri, conan, go, splash, gre...\n",
       "1    [gorgeous, elabor, continu, lord, ring, trilog...\n",
       "2                              [effect, tepid, biopic]\n",
       "3             [like, movi, wasabi, good, place, start]\n",
       "4    [emerg, rare, issu, movi, honest, keen, observ...\n",
       "5    [film, provid, great, insight, neurot, mindset...\n",
       "6               [offer, rare, combin, entertain, educ]\n",
       "7    [pictur, liter, show, road, hell, pave, good, ...\n",
       "8    [steer, turn, snappi, screenplay, curl, edg, c...\n",
       "9    [care, offer, refresh, differ, slice, asian, c...\n",
       "Name: Captions, dtype: object"
      ]
     },
     "execution_count": 17,
     "metadata": {},
     "output_type": "execute_result"
    }
   ],
   "source": [
    "processed_docs[:10]"
   ]
  },
  {
   "cell_type": "markdown",
   "metadata": {},
   "source": [
    "## Bag of Words on the Data set\n",
    "\n",
    "Create a dictionary from ‘processed_docs’ containing the number of times a word appears in the training set."
   ]
  },
  {
   "cell_type": "code",
   "execution_count": 18,
   "metadata": {},
   "outputs": [],
   "source": [
    "dictionary = gensim.corpora.Dictionary(processed_docs)"
   ]
  },
  {
   "cell_type": "code",
   "execution_count": 19,
   "metadata": {},
   "outputs": [
    {
     "name": "stdout",
     "output_type": "stream",
     "text": [
      "0 arnold\n",
      "1 centuri\n",
      "2 claud\n",
      "3 conan\n",
      "4 damm\n",
      "5 destin\n",
      "6 go\n",
      "7 greater\n",
      "8 jean\n",
      "9 rock\n",
      "10 schwarzenegg\n"
     ]
    }
   ],
   "source": [
    "count = 0\n",
    "for k, v in dictionary.iteritems():\n",
    "    print(k, v)\n",
    "    count += 1\n",
    "    if count > 10:\n",
    "        break"
   ]
  },
  {
   "cell_type": "markdown",
   "metadata": {},
   "source": [
    "## Gensim doc2bow"
   ]
  },
  {
   "cell_type": "markdown",
   "metadata": {},
   "source": [
    "For each document we create a dictionary reporting how many\n",
    "words and how many times those words appear. Save this to ‘bow_corpus’, then check our selected document earlier."
   ]
  },
  {
   "cell_type": "code",
   "execution_count": 20,
   "metadata": {},
   "outputs": [],
   "source": [
    "dictionary.filter_extremes(no_below=15, no_above=0.5, keep_n=100000)"
   ]
  },
  {
   "cell_type": "code",
   "execution_count": 21,
   "metadata": {},
   "outputs": [
    {
     "data": {
      "text/plain": [
       "[(212, 1), (999, 1), (1075, 1)]"
      ]
     },
     "execution_count": 21,
     "metadata": {},
     "output_type": "execute_result"
    }
   ],
   "source": [
    "bow_corpus = [dictionary.doc2bow(doc) for doc in processed_docs]\n",
    "bow_corpus[4310]"
   ]
  },
  {
   "cell_type": "code",
   "execution_count": 22,
   "metadata": {},
   "outputs": [
    {
     "name": "stdout",
     "output_type": "stream",
     "text": [
      "Word 212 (\"long\") appears 1 time.\n",
      "Word 999 (\"core\") appears 1 time.\n",
      "Word 1075 (\"contriv\") appears 1 time.\n"
     ]
    }
   ],
   "source": [
    "bow_doc_4310 = bow_corpus[4310]\n",
    "\n",
    "for i in range(len(bow_doc_4310)):\n",
    "    print(\"Word {} (\\\"{}\\\") appears {} time.\".format(bow_doc_4310[i][0], \n",
    "                                                     dictionary[bow_doc_4310[i][0]], \n",
    "                                                     bow_doc_4310[i][1]))"
   ]
  },
  {
   "cell_type": "code",
   "execution_count": 23,
   "metadata": {},
   "outputs": [],
   "source": [
    "from gensim import corpora, models\n",
    "\n",
    "tfidf = models.TfidfModel(bow_corpus)"
   ]
  },
  {
   "cell_type": "code",
   "execution_count": 24,
   "metadata": {},
   "outputs": [],
   "source": [
    "corpus_tfidf = tfidf[bow_corpus]"
   ]
  },
  {
   "cell_type": "code",
   "execution_count": 25,
   "metadata": {},
   "outputs": [
    {
     "name": "stdout",
     "output_type": "stream",
     "text": [
      "[(0, 0.4656267432394765),\n",
      " (1, 0.4188792390668849),\n",
      " (2, 0.4452270344009362),\n",
      " (3, 0.28266201549194714),\n",
      " (4, 0.3926158109071403),\n",
      " (5, 0.4188792390668849)]\n"
     ]
    }
   ],
   "source": [
    "from pprint import pprint\n",
    "\n",
    "for doc in corpus_tfidf:\n",
    "    pprint(doc)\n",
    "    break"
   ]
  },
  {
   "cell_type": "code",
   "execution_count": 26,
   "metadata": {},
   "outputs": [],
   "source": [
    "lda_model = gensim.models.LdaMulticore(bow_corpus, num_topics=10, id2word=dictionary, passes=2, workers=2)"
   ]
  },
  {
   "cell_type": "code",
   "execution_count": 27,
   "metadata": {},
   "outputs": [
    {
     "name": "stdout",
     "output_type": "stream",
     "text": [
      "Topic: 0 \n",
      "Words: 0.024*\"movi\" + 0.017*\"film\" + 0.012*\"like\" + 0.009*\"director\" + 0.009*\"look\" + 0.009*\"matter\" + 0.008*\"good\" + 0.008*\"subject\" + 0.007*\"screen\" + 0.007*\"work\"\n",
      "Topic: 1 \n",
      "Words: 0.044*\"movi\" + 0.038*\"film\" + 0.013*\"charact\" + 0.010*\"stori\" + 0.008*\"peopl\" + 0.008*\"give\" + 0.008*\"great\" + 0.008*\"work\" + 0.007*\"tell\" + 0.007*\"look\"\n",
      "Topic: 2 \n",
      "Words: 0.033*\"movi\" + 0.032*\"film\" + 0.019*\"like\" + 0.018*\"good\" + 0.009*\"go\" + 0.008*\"feel\" + 0.007*\"stori\" + 0.007*\"moment\" + 0.006*\"watch\" + 0.006*\"thing\"\n",
      "Topic: 3 \n",
      "Words: 0.014*\"perform\" + 0.013*\"comedi\" + 0.013*\"director\" + 0.011*\"like\" + 0.011*\"look\" + 0.010*\"movi\" + 0.010*\"effect\" + 0.008*\"start\" + 0.007*\"time\" + 0.007*\"life\"\n",
      "Topic: 4 \n",
      "Words: 0.032*\"movi\" + 0.021*\"funni\" + 0.013*\"littl\" + 0.012*\"drama\" + 0.010*\"power\" + 0.010*\"entertain\" + 0.010*\"enjoy\" + 0.009*\"surpris\" + 0.008*\"good\" + 0.007*\"film\"\n",
      "Topic: 5 \n",
      "Words: 0.023*\"comedi\" + 0.014*\"film\" + 0.010*\"humor\" + 0.009*\"make\" + 0.008*\"drama\" + 0.008*\"movi\" + 0.008*\"stori\" + 0.008*\"scene\" + 0.008*\"like\" + 0.007*\"lack\"\n",
      "Topic: 6 \n",
      "Words: 0.040*\"film\" + 0.024*\"movi\" + 0.022*\"charact\" + 0.012*\"direct\" + 0.010*\"heart\" + 0.010*\"like\" + 0.008*\"good\" + 0.008*\"littl\" + 0.008*\"year\" + 0.008*\"get\"\n",
      "Topic: 7 \n",
      "Words: 0.039*\"movi\" + 0.027*\"like\" + 0.019*\"work\" + 0.018*\"film\" + 0.010*\"life\" + 0.010*\"feel\" + 0.009*\"real\" + 0.009*\"self\" + 0.008*\"charact\" + 0.007*\"better\"\n",
      "Topic: 8 \n",
      "Words: 0.067*\"film\" + 0.025*\"stori\" + 0.021*\"time\" + 0.014*\"like\" + 0.011*\"love\" + 0.010*\"movi\" + 0.009*\"come\" + 0.008*\"know\" + 0.008*\"feel\" + 0.008*\"director\"\n",
      "Topic: 9 \n",
      "Words: 0.017*\"movi\" + 0.014*\"like\" + 0.014*\"time\" + 0.011*\"good\" + 0.010*\"film\" + 0.010*\"watch\" + 0.010*\"come\" + 0.010*\"make\" + 0.009*\"perform\" + 0.008*\"kid\"\n"
     ]
    }
   ],
   "source": [
    "for idx, topic in lda_model.print_topics(-1):\n",
    "    print('Topic: {} \\nWords: {}'.format(idx, topic))"
   ]
  },
  {
   "cell_type": "code",
   "execution_count": 28,
   "metadata": {},
   "outputs": [],
   "source": [
    "lda_model_tfidf = gensim.models.LdaMulticore(corpus_tfidf, num_topics=10, id2word=dictionary, passes=2, workers=4)"
   ]
  },
  {
   "cell_type": "code",
   "execution_count": 29,
   "metadata": {},
   "outputs": [
    {
     "name": "stdout",
     "output_type": "stream",
     "text": [
      "Topic: 0 Word: 0.009*\"movi\" + 0.008*\"film\" + 0.008*\"cast\" + 0.006*\"good\" + 0.006*\"thing\" + 0.006*\"like\" + 0.006*\"go\" + 0.006*\"funni\" + 0.006*\"stori\" + 0.005*\"thriller\"\n",
      "Topic: 1 Word: 0.013*\"film\" + 0.010*\"best\" + 0.010*\"movi\" + 0.008*\"stori\" + 0.008*\"think\" + 0.007*\"year\" + 0.007*\"actor\" + 0.006*\"littl\" + 0.006*\"like\" + 0.005*\"power\"\n",
      "Topic: 2 Word: 0.010*\"film\" + 0.009*\"movi\" + 0.009*\"give\" + 0.008*\"sentiment\" + 0.008*\"make\" + 0.008*\"director\" + 0.007*\"famili\" + 0.007*\"comedi\" + 0.007*\"stori\" + 0.006*\"good\"\n",
      "Topic: 3 Word: 0.010*\"movi\" + 0.010*\"film\" + 0.008*\"come\" + 0.007*\"charm\" + 0.007*\"like\" + 0.007*\"interest\" + 0.006*\"time\" + 0.006*\"better\" + 0.006*\"summer\" + 0.006*\"expect\"\n",
      "Topic: 4 Word: 0.010*\"film\" + 0.008*\"movi\" + 0.008*\"charact\" + 0.008*\"stori\" + 0.006*\"want\" + 0.006*\"make\" + 0.006*\"worth\" + 0.006*\"right\" + 0.006*\"documentari\" + 0.005*\"take\"\n",
      "Topic: 5 Word: 0.022*\"movi\" + 0.010*\"film\" + 0.008*\"great\" + 0.007*\"love\" + 0.007*\"come\" + 0.007*\"year\" + 0.007*\"life\" + 0.006*\"like\" + 0.006*\"work\" + 0.006*\"turn\"\n",
      "Topic: 6 Word: 0.010*\"film\" + 0.009*\"movi\" + 0.009*\"look\" + 0.009*\"time\" + 0.009*\"comedi\" + 0.009*\"like\" + 0.007*\"joke\" + 0.006*\"origin\" + 0.005*\"long\" + 0.004*\"dumb\"\n",
      "Topic: 7 Word: 0.015*\"like\" + 0.013*\"film\" + 0.012*\"movi\" + 0.009*\"feel\" + 0.008*\"entertain\" + 0.007*\"get\" + 0.007*\"minut\" + 0.006*\"hour\" + 0.006*\"cinemat\" + 0.006*\"screen\"\n",
      "Topic: 8 Word: 0.013*\"film\" + 0.013*\"movi\" + 0.012*\"funni\" + 0.010*\"good\" + 0.007*\"like\" + 0.006*\"minut\" + 0.006*\"place\" + 0.006*\"time\" + 0.006*\"charact\" + 0.006*\"real\"\n",
      "Topic: 9 Word: 0.021*\"film\" + 0.008*\"work\" + 0.008*\"movi\" + 0.007*\"like\" + 0.006*\"dark\" + 0.006*\"perform\" + 0.006*\"life\" + 0.006*\"feel\" + 0.006*\"long\" + 0.006*\"dull\"\n"
     ]
    }
   ],
   "source": [
    "for idx, topic in lda_model_tfidf.print_topics(-1):\n",
    "    print('Topic: {} Word: {}'.format(idx, topic))"
   ]
  },
  {
   "cell_type": "markdown",
   "metadata": {},
   "source": [
    "Classification of the topics"
   ]
  },
  {
   "cell_type": "code",
   "execution_count": 30,
   "metadata": {},
   "outputs": [
    {
     "data": {
      "text/plain": [
       "['core',\n",
       " 'beij',\n",
       " 'bicycl',\n",
       " 'weigh',\n",
       " 'agon',\n",
       " 'contriv',\n",
       " 'overheat',\n",
       " 'patho',\n",
       " 'long',\n",
       " 'wist',\n",
       " 'gaze']"
      ]
     },
     "execution_count": 30,
     "metadata": {},
     "output_type": "execute_result"
    }
   ],
   "source": [
    "processed_docs[4310]"
   ]
  },
  {
   "cell_type": "code",
   "execution_count": 31,
   "metadata": {},
   "outputs": [
    {
     "name": "stdout",
     "output_type": "stream",
     "text": [
      "\n",
      "Score: 0.7749382257461548\t \n",
      "Topic: 0.067*\"film\" + 0.025*\"stori\" + 0.021*\"time\" + 0.014*\"like\" + 0.011*\"love\" + 0.010*\"movi\" + 0.009*\"come\" + 0.008*\"know\" + 0.008*\"feel\" + 0.008*\"director\"\n",
      "\n",
      "Score: 0.025010637938976288\t \n",
      "Topic: 0.017*\"movi\" + 0.014*\"like\" + 0.014*\"time\" + 0.011*\"good\" + 0.010*\"film\" + 0.010*\"watch\" + 0.010*\"come\" + 0.010*\"make\" + 0.009*\"perform\" + 0.008*\"kid\"\n",
      "\n",
      "Score: 0.025008689612150192\t \n",
      "Topic: 0.014*\"perform\" + 0.013*\"comedi\" + 0.013*\"director\" + 0.011*\"like\" + 0.011*\"look\" + 0.010*\"movi\" + 0.010*\"effect\" + 0.008*\"start\" + 0.007*\"time\" + 0.007*\"life\"\n",
      "\n",
      "Score: 0.025007857009768486\t \n",
      "Topic: 0.040*\"film\" + 0.024*\"movi\" + 0.022*\"charact\" + 0.012*\"direct\" + 0.010*\"heart\" + 0.010*\"like\" + 0.008*\"good\" + 0.008*\"littl\" + 0.008*\"year\" + 0.008*\"get\"\n",
      "\n",
      "Score: 0.025007523596286774\t \n",
      "Topic: 0.039*\"movi\" + 0.027*\"like\" + 0.019*\"work\" + 0.018*\"film\" + 0.010*\"life\" + 0.010*\"feel\" + 0.009*\"real\" + 0.009*\"self\" + 0.008*\"charact\" + 0.007*\"better\"\n",
      "\n",
      "Score: 0.02500677853822708\t \n",
      "Topic: 0.044*\"movi\" + 0.038*\"film\" + 0.013*\"charact\" + 0.010*\"stori\" + 0.008*\"peopl\" + 0.008*\"give\" + 0.008*\"great\" + 0.008*\"work\" + 0.007*\"tell\" + 0.007*\"look\"\n",
      "\n",
      "Score: 0.02500615455210209\t \n",
      "Topic: 0.033*\"movi\" + 0.032*\"film\" + 0.019*\"like\" + 0.018*\"good\" + 0.009*\"go\" + 0.008*\"feel\" + 0.007*\"stori\" + 0.007*\"moment\" + 0.006*\"watch\" + 0.006*\"thing\"\n",
      "\n",
      "Score: 0.025006089359521866\t \n",
      "Topic: 0.023*\"comedi\" + 0.014*\"film\" + 0.010*\"humor\" + 0.009*\"make\" + 0.008*\"drama\" + 0.008*\"movi\" + 0.008*\"stori\" + 0.008*\"scene\" + 0.008*\"like\" + 0.007*\"lack\"\n",
      "\n",
      "Score: 0.025004465132951736\t \n",
      "Topic: 0.024*\"movi\" + 0.017*\"film\" + 0.012*\"like\" + 0.009*\"director\" + 0.009*\"look\" + 0.009*\"matter\" + 0.008*\"good\" + 0.008*\"subject\" + 0.007*\"screen\" + 0.007*\"work\"\n",
      "\n",
      "Score: 0.025003528222441673\t \n",
      "Topic: 0.032*\"movi\" + 0.021*\"funni\" + 0.013*\"littl\" + 0.012*\"drama\" + 0.010*\"power\" + 0.010*\"entertain\" + 0.010*\"enjoy\" + 0.009*\"surpris\" + 0.008*\"good\" + 0.007*\"film\"\n"
     ]
    }
   ],
   "source": [
    "for index, score in sorted(lda_model[bow_corpus[4310]], key=lambda tup: -1*tup[1]):\n",
    "    print(\"\\nScore: {}\\t \\nTopic: {}\".format(score, lda_model.print_topic(index, 10)))"
   ]
  },
  {
   "cell_type": "code",
   "execution_count": 32,
   "metadata": {},
   "outputs": [
    {
     "name": "stdout",
     "output_type": "stream",
     "text": [
      "\n",
      "Score: 0.7748898267745972\t \n",
      "Topic: 0.022*\"movi\" + 0.010*\"film\" + 0.008*\"great\" + 0.007*\"love\" + 0.007*\"come\" + 0.007*\"year\" + 0.007*\"life\" + 0.006*\"like\" + 0.006*\"work\" + 0.006*\"turn\"\n",
      "\n",
      "Score: 0.025021912530064583\t \n",
      "Topic: 0.021*\"film\" + 0.008*\"work\" + 0.008*\"movi\" + 0.007*\"like\" + 0.006*\"dark\" + 0.006*\"perform\" + 0.006*\"life\" + 0.006*\"feel\" + 0.006*\"long\" + 0.006*\"dull\"\n",
      "\n",
      "Score: 0.025017863139510155\t \n",
      "Topic: 0.010*\"film\" + 0.009*\"movi\" + 0.009*\"look\" + 0.009*\"time\" + 0.009*\"comedi\" + 0.009*\"like\" + 0.007*\"joke\" + 0.006*\"origin\" + 0.005*\"long\" + 0.004*\"dumb\"\n",
      "\n",
      "Score: 0.02501489594578743\t \n",
      "Topic: 0.013*\"film\" + 0.010*\"best\" + 0.010*\"movi\" + 0.008*\"stori\" + 0.008*\"think\" + 0.007*\"year\" + 0.007*\"actor\" + 0.006*\"littl\" + 0.006*\"like\" + 0.005*\"power\"\n",
      "\n",
      "Score: 0.025012794882059097\t \n",
      "Topic: 0.015*\"like\" + 0.013*\"film\" + 0.012*\"movi\" + 0.009*\"feel\" + 0.008*\"entertain\" + 0.007*\"get\" + 0.007*\"minut\" + 0.006*\"hour\" + 0.006*\"cinemat\" + 0.006*\"screen\"\n",
      "\n",
      "Score: 0.025010203942656517\t \n",
      "Topic: 0.010*\"film\" + 0.009*\"movi\" + 0.009*\"give\" + 0.008*\"sentiment\" + 0.008*\"make\" + 0.008*\"director\" + 0.007*\"famili\" + 0.007*\"comedi\" + 0.007*\"stori\" + 0.006*\"good\"\n",
      "\n",
      "Score: 0.025009306147694588\t \n",
      "Topic: 0.010*\"film\" + 0.008*\"movi\" + 0.008*\"charact\" + 0.008*\"stori\" + 0.006*\"want\" + 0.006*\"make\" + 0.006*\"worth\" + 0.006*\"right\" + 0.006*\"documentari\" + 0.005*\"take\"\n",
      "\n",
      "Score: 0.02500893920660019\t \n",
      "Topic: 0.013*\"film\" + 0.013*\"movi\" + 0.012*\"funni\" + 0.010*\"good\" + 0.007*\"like\" + 0.006*\"minut\" + 0.006*\"place\" + 0.006*\"time\" + 0.006*\"charact\" + 0.006*\"real\"\n",
      "\n",
      "Score: 0.02500789426267147\t \n",
      "Topic: 0.009*\"movi\" + 0.008*\"film\" + 0.008*\"cast\" + 0.006*\"good\" + 0.006*\"thing\" + 0.006*\"like\" + 0.006*\"go\" + 0.006*\"funni\" + 0.006*\"stori\" + 0.005*\"thriller\"\n",
      "\n",
      "Score: 0.025006389245390892\t \n",
      "Topic: 0.010*\"movi\" + 0.010*\"film\" + 0.008*\"come\" + 0.007*\"charm\" + 0.007*\"like\" + 0.007*\"interest\" + 0.006*\"time\" + 0.006*\"better\" + 0.006*\"summer\" + 0.006*\"expect\"\n"
     ]
    }
   ],
   "source": [
    "for index, score in sorted(lda_model_tfidf[bow_corpus[4310]], key=lambda tup: -1*tup[1]):\n",
    "    print(\"\\nScore: {}\\t \\nTopic: {}\".format(score, lda_model_tfidf.print_topic(index, 10)))"
   ]
  },
  {
   "cell_type": "code",
   "execution_count": null,
   "metadata": {},
   "outputs": [],
   "source": []
  }
 ],
 "metadata": {
  "kernelspec": {
   "display_name": "Python 3",
   "language": "python",
   "name": "python3"
  },
  "language_info": {
   "codemirror_mode": {
    "name": "ipython",
    "version": 3
   },
   "file_extension": ".py",
   "mimetype": "text/x-python",
   "name": "python",
   "nbconvert_exporter": "python",
   "pygments_lexer": "ipython3",
   "version": "3.8.3"
  }
 },
 "nbformat": 4,
 "nbformat_minor": 4
}
